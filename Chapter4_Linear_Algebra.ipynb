{
  "nbformat": 4,
  "nbformat_minor": 0,
  "metadata": {
    "colab": {
      "provenance": [],
      "authorship_tag": "ABX9TyPjq5oqd7R1GNQfKy0EB1RG",
      "include_colab_link": true
    },
    "kernelspec": {
      "name": "python3",
      "display_name": "Python 3"
    },
    "language_info": {
      "name": "python"
    }
  },
  "cells": [
    {
      "cell_type": "markdown",
      "metadata": {
        "id": "view-in-github",
        "colab_type": "text"
      },
      "source": [
        "<a href=\"https://colab.research.google.com/github/kilos11/AJAY_R_Datasets_For_Work/blob/main/Chapter4_Linear_Algebra.ipynb\" target=\"_parent\"><img src=\"https://colab.research.google.com/assets/colab-badge.svg\" alt=\"Open In Colab\"/></a>"
      ]
    },
    {
      "cell_type": "markdown",
      "source": [
        "# **Chapter 4. Linear Algebra**\n",
        "\n"
      ],
      "metadata": {
        "id": "H9GbadrZEM9t"
      }
    },
    {
      "cell_type": "markdown",
      "source": [
        "# **Vectors**\n",
        "\n",
        " Abstractly, vectors are objects that can be added together (to form new vectors) and that\n",
        "can be multiplied by scalars (i.e., numbers), also to form new vectors.\n",
        "\n",
        "Concretely (for us), vectors are points in some finite-dimensional space. Although you\n",
        "might not think of your data as vectors, they are a good way to represent numeric data.\n"
      ],
      "metadata": {
        "id": "6iZSiTKqFruZ"
      }
    },
    {
      "cell_type": "code",
      "execution_count": null,
      "metadata": {
        "colab": {
          "base_uri": "https://localhost:8080/",
          "height": 94
        },
        "id": "W9sMV3urEJ6D",
        "outputId": "a20be4ce-6303-4c91-ffb3-48780641eb99"
      },
      "outputs": [
        {
          "output_type": "execute_result",
          "data": {
            "text/plain": [
              "'One problem with this approach is that we will want to perform arithmetic on vectors.\\nBecause Python lists aren’t vectors (and hence provide no facilities for vector arithmetic),\\nwe’ll need to build these arithmetic tools ourselves. So let’s start with that.\\nTo begin with, we’ll frequently need to add two vectors. Vectors add componentwise. This\\nmeans that if two vectors v and w are the same length, their sum is just the vector whose\\nfirst element is v[0] + w[0], whose second element is v[1] + w[1], and so on. (If they’re\\nnot the same length, then we’re not allowed to add them.)\\n'"
            ],
            "application/vnd.google.colaboratory.intrinsic+json": {
              "type": "string"
            }
          },
          "metadata": {},
          "execution_count": 1
        }
      ],
      "source": [
        "#The simplest from-scratch approach is to represent vectors as lists of numbers. A list of\n",
        "#three numbers corresponds to a vector in three-dimensional space, and vice versa:\n",
        "height_weight_age = [70, # inches,\n",
        "170, # pounds,\n",
        "40 ] # years\n",
        "\n",
        "grades = [95, # exam1\n",
        "80, # exam2\n",
        "75, # exam3\n",
        "62 ] # exam4\n",
        "\n",
        "#One problem with this approach is that we will want to perform arithmetic on vectors.\n",
        "#Because Python lists aren’t vectors (and hence provide no facilities for vector arithmetic),\n",
        "#we’ll need to build these arithmetic tools ourselves. So let’s start with that.\n",
        "#To begin with, we’ll frequently need to add two vectors. Vectors add componentwise. This\n",
        "#means that if two vectors v and w are the same length, their sum is just the vector whose\n",
        "#first element is v[0] + w[0], whose second element is v[1] + w[1], and so on. (If they’re\n",
        "#not the same length, then we’re not allowed to add them.)\n",
        "\n",
        "#We can easily implement this by zip-ing the vectors together and using a list\n",
        "#comprehension to add the corresponding elements:\n",
        "def vector_add(v,w):\n",
        "    \"\"\"adds corresponding elements\"\"\"\n",
        "    return [v_i + w_i for v_i, w_i in zip(v,w)]\n",
        "\n",
        "#Similarly, to subtract two vectors we just subtract corresponding elements:\n",
        "def vector_subtract(v,w):\n",
        "    \"\"\"subtracts corresponding elements\"\"\"\n",
        "    return [v_i - w_i for v_i, w_i in zip(v,w)]\n",
        "\n",
        "\n",
        "#We’ll also sometimes want to componentwise sum a list of vectors. That is, create a new\n",
        "#vector whose first element is the sum of all the first elements, whose second element is the\n",
        "#sum of all the second elements, and so on. The easiest way to do this is by adding one\n",
        "#vector at a time:\n",
        "\n",
        "\n",
        "\n",
        "\n",
        "\n"
      ]
    }
  ]
}